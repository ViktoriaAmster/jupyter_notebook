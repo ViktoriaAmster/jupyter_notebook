{
 "cells": [
  {
   "cell_type": "code",
   "execution_count": 1,
   "id": "d52615d3",
   "metadata": {},
   "outputs": [
    {
     "name": "stdout",
     "output_type": "stream",
     "text": [
      "Initialized empty Git repository in C:/Users/User/Desktop/GB/jupyter_projects/.git/\n"
     ]
    }
   ],
   "source": [
    "!git init"
   ]
  },
  {
   "cell_type": "markdown",
   "id": "481a7456",
   "metadata": {},
   "source": [
    "# f(x) = 0.6x^3+5.5x^2+10x -5\n",
    "\n",
    "Определить корни\n",
    "\n",
    "Найти интервалы, на которых функция возрастает\n",
    "\n",
    "Найти интервалы, на которых функция убывает\n",
    "\n",
    "Построить график\n",
    "\n",
    "Вычислить вершину\n",
    "\n",
    "Определить промежутки, на котором f > 0\n",
    "\n",
    "Определить промежутки, на котором f < 0"
   ]
  },
  {
   "cell_type": "code",
   "execution_count": 2,
   "id": "a923fda9",
   "metadata": {},
   "outputs": [
    {
     "name": "stdout",
     "output_type": "stream",
     "text": [
      "Requirement already satisfied: sympy in c:\\users\\user\\appdata\\local\\programs\\python\\python310\\lib\\site-packages (1.11.1)\n",
      "Requirement already satisfied: mpmath>=0.19 in c:\\users\\user\\appdata\\local\\programs\\python\\python310\\lib\\site-packages (from sympy) (1.2.1)\n"
     ]
    },
    {
     "name": "stderr",
     "output_type": "stream",
     "text": [
      "WARNING: Ignoring invalid distribution -ip (c:\\users\\user\\appdata\\local\\programs\\python\\python310\\lib\\site-packages)\n",
      "WARNING: Ignoring invalid distribution -ip (c:\\users\\user\\appdata\\local\\programs\\python\\python310\\lib\\site-packages)\n",
      "WARNING: Ignoring invalid distribution -ip (c:\\users\\user\\appdata\\local\\programs\\python\\python310\\lib\\site-packages)\n",
      "WARNING: Ignoring invalid distribution -ip (c:\\users\\user\\appdata\\local\\programs\\python\\python310\\lib\\site-packages)\n",
      "WARNING: Ignoring invalid distribution -ip (c:\\users\\user\\appdata\\local\\programs\\python\\python310\\lib\\site-packages)\n",
      "WARNING: Ignoring invalid distribution -ip (c:\\users\\user\\appdata\\local\\programs\\python\\python310\\lib\\site-packages)\n"
     ]
    }
   ],
   "source": [
    "!pip install sympy"
   ]
  },
  {
   "cell_type": "code",
   "execution_count": 52,
   "id": "2470c0ea",
   "metadata": {
    "scrolled": true
   },
   "outputs": [
    {
     "name": "stdout",
     "output_type": "stream",
     "text": [
      "x1 = -6.32175\n",
      "x2 = -3.25046\n",
      "x3 = 0.40554\n"
     ]
    },
    {
     "data": {
      "image/png": "[encoded data removed]",
      "text/plain": [
       "<Figure size 640x480 with 1 Axes>"
      ]
     },
     "metadata": {},
     "output_type": "display_data"
    },
    {
     "data": {
      "text/plain": [
       "<sympy.plotting.plot.Plot at 0x23cb061efb0>"
      ]
     },
     "execution_count": 52,
     "metadata": {},
     "output_type": "execute_result"
    }
   ],
   "source": [
    "from sympy import *\n",
    "from sympy.plotting import plot\n",
    "import matplotlib\n",
    "\n",
    "x = Symbol('x')\n",
    "f = 0.6*(x**3) + 5.5*(x**2) + 10*x -5\n",
    "x1, x2, x3 = solve(f, x)\n",
    "print(f\"x1 = {round(x1, 5)}\")\n",
    "print(f\"x2 = {round(x2, 5)}\")\n",
    "print(f\"x3 = {round(x3, 5)}\")\n",
    "\n",
    "\n",
    "plot(f)"
   ]
  },
  {
   "cell_type": "code",
   "execution_count": 40,
   "id": "f7e1915f",
   "metadata": {
    "scrolled": true
   },
   "outputs": [
    {
     "name": "stdout",
     "output_type": "stream",
     "text": [
      "[-5.0,7.5]\n",
      "[-1.1111111111111112,-10.1440329218107]\n",
      "функция возрастает на интервалах от -oo до -5.0 и от -1.1111111111111112 до +oo\n"
     ]
    }
   ],
   "source": [
    "def extremums (func, argument):\n",
    "    d = diff(func, argument)\n",
    "    dd = diff(d, argument)\n",
    "    extrem = solve(d, argument)\n",
    "    \n",
    "    for ex in extrem:\n",
    "        print(f\"[{float(ex)},{float(func.subs(argument, ex))}]\")\n",
    "    \n",
    "    ex1, ex2 = [float(ex) for ex in extrem]\n",
    "    print(f\"функция возрастает на интервалах от -{oo} до {ex1} и от {ex2} до +{oo}\")\n",
    "    print(f\"Функция убывает на промежутке от {ex1} до {ex2}\")\n",
    "\n",
    "extremums(f, x)\n"
   ]
  },
  {
   "cell_type": "code",
   "execution_count": 54,
   "id": "182213ac",
   "metadata": {
    "scrolled": true
   },
   "outputs": [
    {
     "name": "stdout",
     "output_type": "stream",
     "text": [
      "Функция положительна на промежутках: от -6.32175 до -3.25046 и от 0.40554 до +oo\n",
      "Функция отрицательна на промежутках: от -oo до -6.32175 и от -3.25046 до 0.40554\n"
     ]
    }
   ],
   "source": [
    "print(f\"Функция положительна на промежутках: от {round(x1, 5)} до {round(x2, 5)} и от {round(x3, 5)} до +{oo}\")\n",
    "print(f\"Функция отрицательна на промежутках: от -{oo} до {round(x1, 5)} и от {round(x2, 5)} до {round(x3, 5)}\")"
   ]
  },
  {
   "cell_type": "code",
   "execution_count": null,
   "id": "b8b6b1e5",
   "metadata": {},
   "outputs": [],
   "source": [
    "!git add"
   ]
  }
 ],
 "metadata": {
  "kernelspec": {
   "display_name": "Python 3 (ipykernel)",
   "language": "python",
   "name": "python3"
  },
  "language_info": {
   "codemirror_mode": {
    "name": "ipython",
    "version": 3
   },
   "file_extension": ".py",
   "mimetype": "text/x-python",
   "name": "python",
   "nbconvert_exporter": "python",
   "pygments_lexer": "ipython3",
   "version": "3.10.8"
  }
 },
 "nbformat": 4,
 "nbformat_minor": 5
}
